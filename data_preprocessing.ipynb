{
 "cells": [
  {
   "cell_type": "code",
   "execution_count": 1,
   "metadata": {},
   "outputs": [],
   "source": [
    "import pandas as pd\n",
    "from nltk import tokenize"
   ]
  },
  {
   "attachments": {},
   "cell_type": "markdown",
   "metadata": {},
   "source": [
    "# Truncate the Data"
   ]
  },
  {
   "cell_type": "code",
   "execution_count": 2,
   "metadata": {},
   "outputs": [],
   "source": [
    "data = pd.read_csv('data/proper_labels.csv')\n",
    "data.drop(columns=['Unnamed: 0.1'], inplace=True)"
   ]
  },
  {
   "cell_type": "code",
   "execution_count": 9,
   "metadata": {},
   "outputs": [],
   "source": [
    "truncated_data = pd.DataFrame(columns=data.columns[1:-1])"
   ]
  },
  {
   "cell_type": "code",
   "execution_count": 10,
   "metadata": {},
   "outputs": [
    {
     "data": {
      "text/html": [
       "<div>\n",
       "<style scoped>\n",
       "    .dataframe tbody tr th:only-of-type {\n",
       "        vertical-align: middle;\n",
       "    }\n",
       "\n",
       "    .dataframe tbody tr th {\n",
       "        vertical-align: top;\n",
       "    }\n",
       "\n",
       "    .dataframe thead th {\n",
       "        text-align: right;\n",
       "    }\n",
       "</style>\n",
       "<table border=\"1\" class=\"dataframe\">\n",
       "  <thead>\n",
       "    <tr style=\"text-align: right;\">\n",
       "      <th></th>\n",
       "      <th>name</th>\n",
       "      <th>author</th>\n",
       "      <th>genre</th>\n",
       "      <th>text</th>\n",
       "    </tr>\n",
       "  </thead>\n",
       "  <tbody>\n",
       "  </tbody>\n",
       "</table>\n",
       "</div>"
      ],
      "text/plain": [
       "Empty DataFrame\n",
       "Columns: [name, author, genre, text]\n",
       "Index: []"
      ]
     },
     "execution_count": 10,
     "metadata": {},
     "output_type": "execute_result"
    }
   ],
   "source": [
    "truncated_data"
   ]
  },
  {
   "cell_type": "code",
   "execution_count": 11,
   "metadata": {},
   "outputs": [],
   "source": [
    "def camel_case_split(str):\n",
    "    words = [[str[0]]]\n",
    "    for c in str[1:]:\n",
    "        if words[-1][-1].islower() and c.isupper():\n",
    "            words.append(list(c))\n",
    "        else:\n",
    "            words[-1].append(c)\n",
    "\n",
    "    return \" \".join(\n",
    "        (\n",
    "            \". \".join([\"\".join(word) for word in words])\n",
    "            .replace(\".\", \". \")\n",
    "            .replace(\",\", \", \")\n",
    "            .replace(\"?\", \"? \")\n",
    "            .replace(\"!\", \"! \")\n",
    "            .replace(\";\", \"; \")\n",
    "        ).split()\n",
    "    )\n",
    "\n",
    "for i,r in data.iterrows():\n",
    "    if r['text length'] > 510:\n",
    "        truncated_text = \"\"\n",
    "        for s in tokenize.sent_tokenize(r['text']):\n",
    "            combined = truncated_text+s+\" \"\n",
    "            if len(camel_case_split(combined).split()) < 510:\n",
    "                truncated_text = truncated_text+s+\" \"\n",
    "            else:\n",
    "                row_to_add = [r['name'], r['author'], r['genre'], truncated_text]\n",
    "                truncated_data.loc[len(truncated_data)] = row_to_add\n",
    "                truncated_text = \"\"\n",
    "        if truncated_text:\n",
    "            row_to_add = [r['name'], r[\"author\"], r[\"genre\"], truncated_text]\n",
    "            truncated_data.loc[len(truncated_data)] = row_to_add        \n",
    "    else:\n",
    "        row_to_add = [r[\"name\"], r[\"author\"], r[\"genre\"], r[\"text\"]]\n",
    "        truncated_data.loc[len(truncated_data)] = row_to_add"
   ]
  },
  {
   "cell_type": "code",
   "execution_count": 14,
   "metadata": {},
   "outputs": [],
   "source": [
    "truncated_data['text'] = truncated_data['text'].map(camel_case_split)\n",
    "truncated_data['text length'] = truncated_data['text'].map(lambda x: len(x.split(\" \")))"
   ]
  },
  {
   "cell_type": "code",
   "execution_count": 16,
   "metadata": {},
   "outputs": [],
   "source": [
    "truncated_data.to_csv('data/truncated_data.csv')"
   ]
  },
  {
   "attachments": {},
   "cell_type": "markdown",
   "metadata": {},
   "source": [
    "# Extend data labels"
   ]
  },
  {
   "cell_type": "code",
   "execution_count": 17,
   "metadata": {},
   "outputs": [],
   "source": [
    "all_labels = list(set(pd.read_csv('data/excerpts.csv').genre))"
   ]
  },
  {
   "cell_type": "code",
   "execution_count": 22,
   "metadata": {},
   "outputs": [],
   "source": [
    "extended_labels = pd.DataFrame(columns=(['name','author','text']+all_labels))"
   ]
  },
  {
   "cell_type": "code",
   "execution_count": 23,
   "metadata": {},
   "outputs": [
    {
     "data": {
      "text/html": [
       "<div>\n",
       "<style scoped>\n",
       "    .dataframe tbody tr th:only-of-type {\n",
       "        vertical-align: middle;\n",
       "    }\n",
       "\n",
       "    .dataframe tbody tr th {\n",
       "        vertical-align: top;\n",
       "    }\n",
       "\n",
       "    .dataframe thead th {\n",
       "        text-align: right;\n",
       "    }\n",
       "</style>\n",
       "<table border=\"1\" class=\"dataframe\">\n",
       "  <thead>\n",
       "    <tr style=\"text-align: right;\">\n",
       "      <th></th>\n",
       "      <th>name</th>\n",
       "      <th>author</th>\n",
       "      <th>text</th>\n",
       "      <th>Business-Finance-Law</th>\n",
       "      <th>Religion</th>\n",
       "      <th>Natural-History</th>\n",
       "      <th>Humour</th>\n",
       "      <th>Computing</th>\n",
       "      <th>Medical</th>\n",
       "      <th>Health</th>\n",
       "      <th>...</th>\n",
       "      <th>Romance</th>\n",
       "      <th>Entertainment</th>\n",
       "      <th>Teen-Young-Adult</th>\n",
       "      <th>Science-Geography</th>\n",
       "      <th>Personal-Development</th>\n",
       "      <th>Biography</th>\n",
       "      <th>Science-Fiction-Fantasy-Horror</th>\n",
       "      <th>Poetry-Drama</th>\n",
       "      <th>History-Archaeology</th>\n",
       "      <th>Society-Social-Sciences</th>\n",
       "    </tr>\n",
       "  </thead>\n",
       "  <tbody>\n",
       "  </tbody>\n",
       "</table>\n",
       "<p>0 rows × 23 columns</p>\n",
       "</div>"
      ],
      "text/plain": [
       "Empty DataFrame\n",
       "Columns: [name, author, text, Business-Finance-Law, Religion, Natural-History, Humour, Computing, Medical, Health, Mind-Body-Spirit, Crime-Thriller, Technology-Engineering, Romance, Entertainment, Teen-Young-Adult, Science-Geography, Personal-Development, Biography, Science-Fiction-Fantasy-Horror, Poetry-Drama, History-Archaeology, Society-Social-Sciences]\n",
       "Index: []\n",
       "\n",
       "[0 rows x 23 columns]"
      ]
     },
     "execution_count": 23,
     "metadata": {},
     "output_type": "execute_result"
    }
   ],
   "source": [
    "extended_labels"
   ]
  },
  {
   "cell_type": "code",
   "execution_count": 24,
   "metadata": {},
   "outputs": [],
   "source": [
    "for i,r in truncated_data.iterrows():\n",
    "    all_genres = {key:\"False\" for key in all_labels}\n",
    "    genres = r['genre'].split(\",\")\n",
    "    for genre in genres:\n",
    "        all_genres[genre] = \"True\"\n",
    "    row_to_add = [r['name'], r['author'], r[\"text\"]]\n",
    "    row_to_add.extend(list(all_genres.values()))\n",
    "    extended_labels.loc[len(extended_labels)] = row_to_add"
   ]
  },
  {
   "cell_type": "code",
   "execution_count": 25,
   "metadata": {},
   "outputs": [
    {
     "data": {
      "text/html": [
       "<div>\n",
       "<style scoped>\n",
       "    .dataframe tbody tr th:only-of-type {\n",
       "        vertical-align: middle;\n",
       "    }\n",
       "\n",
       "    .dataframe tbody tr th {\n",
       "        vertical-align: top;\n",
       "    }\n",
       "\n",
       "    .dataframe thead th {\n",
       "        text-align: right;\n",
       "    }\n",
       "</style>\n",
       "<table border=\"1\" class=\"dataframe\">\n",
       "  <thead>\n",
       "    <tr style=\"text-align: right;\">\n",
       "      <th></th>\n",
       "      <th>name</th>\n",
       "      <th>author</th>\n",
       "      <th>text</th>\n",
       "      <th>Business-Finance-Law</th>\n",
       "      <th>Religion</th>\n",
       "      <th>Natural-History</th>\n",
       "      <th>Humour</th>\n",
       "      <th>Computing</th>\n",
       "      <th>Medical</th>\n",
       "      <th>Health</th>\n",
       "      <th>...</th>\n",
       "      <th>Romance</th>\n",
       "      <th>Entertainment</th>\n",
       "      <th>Teen-Young-Adult</th>\n",
       "      <th>Science-Geography</th>\n",
       "      <th>Personal-Development</th>\n",
       "      <th>Biography</th>\n",
       "      <th>Science-Fiction-Fantasy-Horror</th>\n",
       "      <th>Poetry-Drama</th>\n",
       "      <th>History-Archaeology</th>\n",
       "      <th>Society-Social-Sciences</th>\n",
       "    </tr>\n",
       "  </thead>\n",
       "  <tbody>\n",
       "    <tr>\n",
       "      <th>0</th>\n",
       "      <td>The Man Who Loved China: The Fantastic Story o...</td>\n",
       "      <td>Simon Winchester</td>\n",
       "      <td>Without haste, without fear, we conquer the world</td>\n",
       "      <td>False</td>\n",
       "      <td>False</td>\n",
       "      <td>False</td>\n",
       "      <td>False</td>\n",
       "      <td>False</td>\n",
       "      <td>False</td>\n",
       "      <td>False</td>\n",
       "      <td>...</td>\n",
       "      <td>False</td>\n",
       "      <td>False</td>\n",
       "      <td>False</td>\n",
       "      <td>True</td>\n",
       "      <td>False</td>\n",
       "      <td>False</td>\n",
       "      <td>False</td>\n",
       "      <td>False</td>\n",
       "      <td>True</td>\n",
       "      <td>False</td>\n",
       "    </tr>\n",
       "    <tr>\n",
       "      <th>1</th>\n",
       "      <td>The Collected Poems</td>\n",
       "      <td>Sylvia Plath</td>\n",
       "      <td>I lean to you, numb as a fossil. Tell me I'm h...</td>\n",
       "      <td>False</td>\n",
       "      <td>False</td>\n",
       "      <td>False</td>\n",
       "      <td>False</td>\n",
       "      <td>False</td>\n",
       "      <td>False</td>\n",
       "      <td>False</td>\n",
       "      <td>...</td>\n",
       "      <td>False</td>\n",
       "      <td>False</td>\n",
       "      <td>False</td>\n",
       "      <td>False</td>\n",
       "      <td>False</td>\n",
       "      <td>False</td>\n",
       "      <td>False</td>\n",
       "      <td>True</td>\n",
       "      <td>False</td>\n",
       "      <td>False</td>\n",
       "    </tr>\n",
       "    <tr>\n",
       "      <th>2</th>\n",
       "      <td>The Collected Poems</td>\n",
       "      <td>Sylvia Plath</td>\n",
       "      <td>Mother of otherness, Eat me. --from \"Poem for ...</td>\n",
       "      <td>False</td>\n",
       "      <td>False</td>\n",
       "      <td>False</td>\n",
       "      <td>False</td>\n",
       "      <td>False</td>\n",
       "      <td>False</td>\n",
       "      <td>False</td>\n",
       "      <td>...</td>\n",
       "      <td>False</td>\n",
       "      <td>False</td>\n",
       "      <td>False</td>\n",
       "      <td>False</td>\n",
       "      <td>False</td>\n",
       "      <td>False</td>\n",
       "      <td>False</td>\n",
       "      <td>True</td>\n",
       "      <td>False</td>\n",
       "      <td>False</td>\n",
       "    </tr>\n",
       "    <tr>\n",
       "      <th>3</th>\n",
       "      <td>The Collected Poems</td>\n",
       "      <td>Sylvia Plath</td>\n",
       "      <td>She stopped fitting me so closely and seemed o...</td>\n",
       "      <td>False</td>\n",
       "      <td>False</td>\n",
       "      <td>False</td>\n",
       "      <td>False</td>\n",
       "      <td>False</td>\n",
       "      <td>False</td>\n",
       "      <td>False</td>\n",
       "      <td>...</td>\n",
       "      <td>False</td>\n",
       "      <td>False</td>\n",
       "      <td>False</td>\n",
       "      <td>False</td>\n",
       "      <td>False</td>\n",
       "      <td>False</td>\n",
       "      <td>False</td>\n",
       "      <td>True</td>\n",
       "      <td>False</td>\n",
       "      <td>False</td>\n",
       "    </tr>\n",
       "    <tr>\n",
       "      <th>4</th>\n",
       "      <td>The Collected Poems</td>\n",
       "      <td>Sylvia Plath</td>\n",
       "      <td>In the month of red leaves I climb to a bed of...</td>\n",
       "      <td>False</td>\n",
       "      <td>False</td>\n",
       "      <td>False</td>\n",
       "      <td>False</td>\n",
       "      <td>False</td>\n",
       "      <td>False</td>\n",
       "      <td>False</td>\n",
       "      <td>...</td>\n",
       "      <td>False</td>\n",
       "      <td>False</td>\n",
       "      <td>False</td>\n",
       "      <td>False</td>\n",
       "      <td>False</td>\n",
       "      <td>False</td>\n",
       "      <td>False</td>\n",
       "      <td>True</td>\n",
       "      <td>False</td>\n",
       "      <td>False</td>\n",
       "    </tr>\n",
       "  </tbody>\n",
       "</table>\n",
       "<p>5 rows × 23 columns</p>\n",
       "</div>"
      ],
      "text/plain": [
       "                                                name            author  \\\n",
       "0  The Man Who Loved China: The Fantastic Story o...  Simon Winchester   \n",
       "1                                The Collected Poems      Sylvia Plath   \n",
       "2                                The Collected Poems      Sylvia Plath   \n",
       "3                                The Collected Poems      Sylvia Plath   \n",
       "4                                The Collected Poems      Sylvia Plath   \n",
       "\n",
       "                                                text Business-Finance-Law  \\\n",
       "0  Without haste, without fear, we conquer the world                False   \n",
       "1  I lean to you, numb as a fossil. Tell me I'm h...                False   \n",
       "2  Mother of otherness, Eat me. --from \"Poem for ...                False   \n",
       "3  She stopped fitting me so closely and seemed o...                False   \n",
       "4  In the month of red leaves I climb to a bed of...                False   \n",
       "\n",
       "  Religion Natural-History Humour Computing Medical Health  ... Romance  \\\n",
       "0    False           False  False     False   False  False  ...   False   \n",
       "1    False           False  False     False   False  False  ...   False   \n",
       "2    False           False  False     False   False  False  ...   False   \n",
       "3    False           False  False     False   False  False  ...   False   \n",
       "4    False           False  False     False   False  False  ...   False   \n",
       "\n",
       "  Entertainment Teen-Young-Adult Science-Geography Personal-Development  \\\n",
       "0         False            False              True                False   \n",
       "1         False            False             False                False   \n",
       "2         False            False             False                False   \n",
       "3         False            False             False                False   \n",
       "4         False            False             False                False   \n",
       "\n",
       "  Biography Science-Fiction-Fantasy-Horror Poetry-Drama History-Archaeology  \\\n",
       "0     False                          False        False                True   \n",
       "1     False                          False         True               False   \n",
       "2     False                          False         True               False   \n",
       "3     False                          False         True               False   \n",
       "4     False                          False         True               False   \n",
       "\n",
       "  Society-Social-Sciences  \n",
       "0                   False  \n",
       "1                   False  \n",
       "2                   False  \n",
       "3                   False  \n",
       "4                   False  \n",
       "\n",
       "[5 rows x 23 columns]"
      ]
     },
     "execution_count": 25,
     "metadata": {},
     "output_type": "execute_result"
    }
   ],
   "source": [
    "extended_labels.head()"
   ]
  },
  {
   "cell_type": "code",
   "execution_count": 34,
   "metadata": {},
   "outputs": [],
   "source": [
    "extended_labels.to_csv('data/post_processed.csv',encoding='utf-8')"
   ]
  },
  {
   "attachments": {},
   "cell_type": "markdown",
   "metadata": {},
   "source": [
    "# Transformers Preprocessing"
   ]
  },
  {
   "cell_type": "code",
   "execution_count": 47,
   "metadata": {},
   "outputs": [],
   "source": [
    "from datasets import DatasetDict, load_dataset, Dataset, load_from_disk"
   ]
  },
  {
   "cell_type": "code",
   "execution_count": null,
   "metadata": {},
   "outputs": [],
   "source": [
    "pd.read_csv('data/post_processed.csv')"
   ]
  },
  {
   "cell_type": "code",
   "execution_count": 41,
   "metadata": {},
   "outputs": [],
   "source": [
    "dataset = Dataset.from_pandas(pd.read_csv('data/post_processed.csv'))"
   ]
  },
  {
   "cell_type": "code",
   "execution_count": 42,
   "metadata": {},
   "outputs": [],
   "source": [
    "train_testvalid = dataset.train_test_split(0.4)\n",
    "# Split the 10% test + valid in half test, half valid\n",
    "test_valid = train_testvalid['test'].train_test_split(0.5)\n",
    "# gather everyone if you want to have a single DatasetDict\n",
    "train_test_valid_dataset = DatasetDict({\n",
    "    'train': train_testvalid['train'],\n",
    "    'test': test_valid['test'],\n",
    "    'valid': test_valid['train']})"
   ]
  },
  {
   "cell_type": "code",
   "execution_count": 43,
   "metadata": {},
   "outputs": [
    {
     "data": {
      "text/plain": [
       "DatasetDict({\n",
       "    train: Dataset({\n",
       "        features: ['index', 'name', 'author', 'text', 'Business-Finance-Law', 'Religion', 'Natural-History', 'Humour', 'Computing', 'Medical', 'Health', 'Mind-Body-Spirit', 'Crime-Thriller', 'Technology-Engineering', 'Romance', 'Entertainment', 'Teen-Young-Adult', 'Science-Geography', 'Personal-Development', 'Biography', 'Science-Fiction-Fantasy-Horror', 'Poetry-Drama', 'History-Archaeology', 'Society-Social-Sciences'],\n",
       "        num_rows: 8526\n",
       "    })\n",
       "    test: Dataset({\n",
       "        features: ['index', 'name', 'author', 'text', 'Business-Finance-Law', 'Religion', 'Natural-History', 'Humour', 'Computing', 'Medical', 'Health', 'Mind-Body-Spirit', 'Crime-Thriller', 'Technology-Engineering', 'Romance', 'Entertainment', 'Teen-Young-Adult', 'Science-Geography', 'Personal-Development', 'Biography', 'Science-Fiction-Fantasy-Horror', 'Poetry-Drama', 'History-Archaeology', 'Society-Social-Sciences'],\n",
       "        num_rows: 2842\n",
       "    })\n",
       "    valid: Dataset({\n",
       "        features: ['index', 'name', 'author', 'text', 'Business-Finance-Law', 'Religion', 'Natural-History', 'Humour', 'Computing', 'Medical', 'Health', 'Mind-Body-Spirit', 'Crime-Thriller', 'Technology-Engineering', 'Romance', 'Entertainment', 'Teen-Young-Adult', 'Science-Geography', 'Personal-Development', 'Biography', 'Science-Fiction-Fantasy-Horror', 'Poetry-Drama', 'History-Archaeology', 'Society-Social-Sciences'],\n",
       "        num_rows: 2842\n",
       "    })\n",
       "})"
      ]
     },
     "execution_count": 43,
     "metadata": {},
     "output_type": "execute_result"
    }
   ],
   "source": [
    "train_test_valid_dataset"
   ]
  },
  {
   "cell_type": "code",
   "execution_count": 44,
   "metadata": {},
   "outputs": [
    {
     "data": {
      "application/vnd.jupyter.widget-view+json": {
       "model_id": "bddcf6267273401c85a7fd727037946e",
       "version_major": 2,
       "version_minor": 0
      },
      "text/plain": [
       "Saving the dataset (0/1 shards):   0%|          | 0/8526 [00:00<?, ? examples/s]"
      ]
     },
     "metadata": {},
     "output_type": "display_data"
    },
    {
     "data": {
      "application/vnd.jupyter.widget-view+json": {
       "model_id": "b7b4163cf507441abd8f384b1c46fc91",
       "version_major": 2,
       "version_minor": 0
      },
      "text/plain": [
       "Saving the dataset (0/1 shards):   0%|          | 0/2842 [00:00<?, ? examples/s]"
      ]
     },
     "metadata": {},
     "output_type": "display_data"
    },
    {
     "data": {
      "application/vnd.jupyter.widget-view+json": {
       "model_id": "551e71336f144443ab8f10b184267b8c",
       "version_major": 2,
       "version_minor": 0
      },
      "text/plain": [
       "Saving the dataset (0/1 shards):   0%|          | 0/2842 [00:00<?, ? examples/s]"
      ]
     },
     "metadata": {},
     "output_type": "display_data"
    }
   ],
   "source": [
    "train_test_valid_dataset.save_to_disk('data/neural_data_post_process')"
   ]
  }
 ],
 "metadata": {
  "kernelspec": {
   "display_name": "Python 3 (ipykernel)",
   "language": "python",
   "name": "python3"
  },
  "language_info": {
   "codemirror_mode": {
    "name": "ipython",
    "version": 3
   },
   "file_extension": ".py",
   "mimetype": "text/x-python",
   "name": "python",
   "nbconvert_exporter": "python",
   "pygments_lexer": "ipython3",
   "version": "3.9.16"
  },
  "orig_nbformat": 4
 },
 "nbformat": 4,
 "nbformat_minor": 2
}
